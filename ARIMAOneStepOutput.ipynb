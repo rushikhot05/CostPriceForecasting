{
 "cells": [
  {
   "cell_type": "code",
   "execution_count": 14,
   "metadata": {},
   "outputs": [
    {
     "name": "stdout",
     "output_type": "stream",
     "text": [
      "Date\n",
      "2015-01-01    1405\n",
      "2015-01-02    1109\n",
      "2015-01-03    1240\n",
      "2015-01-04    1317\n",
      "2015-01-05    1320\n",
      "2015-01-06    1308\n",
      "2015-01-07    1368\n",
      "2015-01-08    1372\n",
      "2015-01-09    1491\n",
      "2015-01-10    1388\n",
      "2015-01-11    1451\n",
      "2015-01-12    1526\n",
      "2015-01-13    1441\n",
      "2015-01-14    1404\n",
      "2015-01-15    1377\n",
      "2015-01-16    1395\n",
      "2015-01-17    1369\n",
      "2015-01-18    1371\n",
      "2015-01-19    1412\n",
      "2015-01-20    1347\n",
      "Name: modal, dtype: int64\n"
     ]
    },
    {
     "data": {
      "image/png": "[encoded data removed]",
      "text/plain": [
       "<Figure size 432x288 with 1 Axes>"
      ]
     },
     "metadata": {
      "needs_background": "light"
     },
     "output_type": "display_data"
    }
   ],
   "source": [
    "# line plot of time series\n",
    "from pandas import Series\n",
    "from matplotlib import pyplot\n",
    "# load dataset\n",
    "series = Series.from_csv('bajri1.csv', header=0)\n",
    "# display first few row\n",
    "print(series.head(20))\n",
    "# line plot of dataset\n",
    "series.plot()\n",
    "pyplot.show()"
   ]
  },
  {
   "cell_type": "code",
   "execution_count": 33,
   "metadata": {},
   "outputs": [
    {
     "name": "stdout",
     "output_type": "stream",
     "text": [
      "Dataset 1454, Validation 7\n"
     ]
    },
    {
     "name": "stderr",
     "output_type": "stream",
     "text": [
      "/home/rushikesh/.local/lib/python3.6/site-packages/ipykernel_launcher.py:7: FutureWarning: The signature of `Series.to_csv` was aligned to that of `DataFrame.to_csv`, and argument 'header' will change its default value from False to True: please pass an explicit value to suppress this warning.\n",
      "  import sys\n",
      "/home/rushikesh/.local/lib/python3.6/site-packages/ipykernel_launcher.py:8: FutureWarning: The signature of `Series.to_csv` was aligned to that of `DataFrame.to_csv`, and argument 'header' will change its default value from False to True: please pass an explicit value to suppress this warning.\n",
      "  \n"
     ]
    }
   ],
   "source": [
    "# split the dataset\n",
    "from pandas import Series\n",
    "series = Series.from_csv('bajri1.csv', header=0)\n",
    "split_point = len(series) - 7\n",
    "dataset, validation = series[0:split_point], series[split_point:]\n",
    "print('Dataset %d, Validation %d' % (len(dataset), len(validation)))\n",
    "dataset.to_csv('dataset.csv')\n",
    "validation.to_csv('validation.csv')"
   ]
  },
  {
   "cell_type": "code",
   "execution_count": 34,
   "metadata": {},
   "outputs": [],
   "source": [
    "# create a differenced series\n",
    "def difference(dataset, interval=1):\n",
    "\tdiff = list()\n",
    "\tfor i in range(interval, len(dataset)):\n",
    "\t\tvalue = dataset[i] - dataset[i - interval]\n",
    "\t\tdiff.append(value)\n",
    "\treturn numpy.array(diff)"
   ]
  },
  {
   "cell_type": "code",
   "execution_count": 35,
   "metadata": {},
   "outputs": [],
   "source": [
    "# invert differenced value\n",
    "def inverse_difference(history, yhat, interval=1):\n",
    "\treturn yhat + history[-interval]"
   ]
  },
  {
   "cell_type": "code",
   "execution_count": 36,
   "metadata": {},
   "outputs": [
    {
     "name": "stdout",
     "output_type": "stream",
     "text": [
      "                              ARMA Model Results                              \n",
      "==============================================================================\n",
      "Dep. Variable:                      y   No. Observations:                 1089\n",
      "Model:                     ARMA(7, 1)   Log Likelihood               -6867.994\n",
      "Method:                       css-mle   S.D. of innovations            132.492\n",
      "Date:                Fri, 29 Mar 2019   AIC                          13755.987\n",
      "Time:                        15:00:08   BIC                          13805.917\n",
      "Sample:                             0   HQIC                         13774.886\n",
      "                                                                              \n",
      "==============================================================================\n",
      "                 coef    std err          z      P>|z|      [0.025      0.975]\n",
      "------------------------------------------------------------------------------\n",
      "const        180.7133    197.202      0.916      0.360    -205.795     567.222\n",
      "ar.L1.y        1.6392      0.025     65.942      0.000       1.590       1.688\n",
      "ar.L2.y       -0.5581      0.049    -11.491      0.000      -0.653      -0.463\n",
      "ar.L3.y       -0.0951      0.058     -1.640      0.101      -0.209       0.019\n",
      "ar.L4.y       -0.0071      0.060     -0.117      0.907      -0.125       0.111\n",
      "ar.L5.y       -0.0837      0.061     -1.383      0.167      -0.202       0.035\n",
      "ar.L6.y        0.1403      0.058      2.408      0.016       0.026       0.254\n",
      "ar.L7.y       -0.0361      0.031     -1.171      0.242      -0.096       0.024\n",
      "ma.L1.y       -0.9586      0.008   -118.205      0.000      -0.975      -0.943\n",
      "                                    Roots                                    \n",
      "=============================================================================\n",
      "                  Real          Imaginary           Modulus         Frequency\n",
      "-----------------------------------------------------------------------------\n",
      "AR.1           -1.6366           -0.0000j            1.6366           -0.5000\n",
      "AR.2           -0.5158           -1.5942j            1.6756           -0.2998\n",
      "AR.3           -0.5158           +1.5942j            1.6756            0.2998\n",
      "AR.4            1.0016           -0.0000j            1.0016           -0.0000\n",
      "AR.5            1.3164           -0.5731j            1.4357           -0.0654\n",
      "AR.6            1.3164           +0.5731j            1.4357            0.0654\n",
      "AR.7            2.9234           -0.0000j            2.9234           -0.0000\n",
      "MA.1            1.0431           +0.0000j            1.0431            0.0000\n",
      "-----------------------------------------------------------------------------\n"
     ]
    }
   ],
   "source": [
    "from pandas import Series\n",
    "from statsmodels.tsa.arima_model import ARIMA\n",
    "import numpy\n",
    "\n",
    "# create a differenced series\n",
    "def difference(dataset, interval=1):\n",
    "\tdiff = list()\n",
    "\tfor i in range(interval, len(dataset)):\n",
    "\t\tvalue = dataset[i] - dataset[i - interval]\n",
    "\t\tdiff.append(value)\n",
    "\treturn numpy.array(diff)\n",
    "\n",
    "# load dataset\n",
    "series = Series.from_csv('dataset.csv', header=None)\n",
    "# seasonal difference\n",
    "X = series.values\n",
    "days_in_year = 365\n",
    "differenced = difference(X, days_in_year)\n",
    "# fit model\n",
    "model = ARIMA(differenced, order=(7,0,1))\n",
    "model_fit = model.fit(disp=0)\n",
    "# print summary of fit model\n",
    "print(model_fit.summary())"
   ]
  },
  {
   "cell_type": "code",
   "execution_count": 30,
   "metadata": {},
   "outputs": [],
   "source": [
    "# one-step out-of sample forecast\n",
    "forecast = model_fit.forecast()[0]"
   ]
  },
  {
   "cell_type": "code",
   "execution_count": 20,
   "metadata": {},
   "outputs": [],
   "source": [
    "# invert the differenced forecast to something usable\n",
    "forecast = inverse_difference(X, forecast, days_in_year)"
   ]
  },
  {
   "cell_type": "code",
   "execution_count": 7,
   "metadata": {},
   "outputs": [
    {
     "name": "stdout",
     "output_type": "stream",
     "text": [
      "Forecast: 1805.920678\n"
     ]
    }
   ],
   "source": [
    "from pandas import Series\n",
    "from statsmodels.tsa.arima_model import ARIMA\n",
    "import numpy\n",
    "\n",
    "# create a differenced series\n",
    "def difference(dataset, interval=1):\n",
    "\tdiff = list()\n",
    "\tfor i in range(interval, len(dataset)):\n",
    "\t\tvalue = dataset[i] - dataset[i - interval]\n",
    "\t\tdiff.append(value)\n",
    "\treturn numpy.array(diff)\n",
    "\n",
    "# invert differenced value\n",
    "def inverse_difference(history, yhat, interval=1):\n",
    "\treturn yhat + history[-interval]\n",
    "\n",
    "# load dataset\n",
    "series = Series.from_csv('dataset.csv', header=None)\n",
    "# seasonal difference\n",
    "X = series.values\n",
    "days_in_year = 365\n",
    "differenced = difference(X, days_in_year)\n",
    "# fit model\n",
    "model = ARIMA(differenced, order=(3,0,1))\n",
    "model_fit = model.fit(disp=0)\n",
    "# one-step out-of sample forecast\n",
    "forecast = model_fit.forecast()[0]\n",
    "# invert the differenced forecast to something usable\n",
    "forecast = inverse_difference(X, forecast, days_in_year)\n",
    "print('Forecast: %f' % forecast)"
   ]
  },
  {
   "cell_type": "code",
   "execution_count": 14,
   "metadata": {},
   "outputs": [],
   "source": [
    "# one-step out of sample forecast\n",
    "start_index = len(differenced)\n",
    "end_index = len(differenced)\n",
    "forecast = model_fit.predict(start=start_index, end=end_index)"
   ]
  },
  {
   "cell_type": "code",
   "execution_count": 15,
   "metadata": {},
   "outputs": [
    {
     "name": "stdout",
     "output_type": "stream",
     "text": [
      "[473.14195078]\n"
     ]
    }
   ],
   "source": [
    "print(forecast)"
   ]
  },
  {
   "cell_type": "code",
   "execution_count": 36,
   "metadata": {},
   "outputs": [
    {
     "name": "stdout",
     "output_type": "stream",
     "text": [
      "Forecast: 1497.548931\n"
     ]
    }
   ],
   "source": [
    "from pandas import Series\n",
    "from statsmodels.tsa.arima_model import ARIMA\n",
    "import numpy\n",
    "from pandas import datetime\n",
    "\n",
    "# create a differenced series\n",
    "def difference(dataset, interval=1):\n",
    "\tdiff = list()\n",
    "\tfor i in range(interval, len(dataset)):\n",
    "\t\tvalue = dataset[i] - dataset[i - interval]\n",
    "\t\tdiff.append(value)\n",
    "\treturn numpy.array(diff)\n",
    "\n",
    "# invert differenced value\n",
    "def inverse_difference(history, yhat, interval=1):\n",
    "\treturn yhat + history[-interval]\n",
    "\n",
    "# load dataset\n",
    "series = Series.from_csv('dataset.csv', header=None)\n",
    "# seasonal difference\n",
    "X = series.values\n",
    "days_in_year = 365\n",
    "differenced = difference(X, days_in_year)\n",
    "# fit model\n",
    "model = ARIMA(differenced, order=(7,0,1))\n",
    "model_fit = model.fit(disp=0)\n",
    "# one-step out of sample forecast\n",
    "start_index = 1\n",
    "end_index = 1\n",
    "forecast = model_fit.predict(start=start_index, end=end_index)\n",
    "# invert the differenced forecast to something usable\n",
    "forecast = inverse_difference(X, forecast, days_in_year)\n",
    "print('Forecast: %f' % forecast)"
   ]
  },
  {
   "cell_type": "code",
   "execution_count": 37,
   "metadata": {},
   "outputs": [
    {
     "name": "stdout",
     "output_type": "stream",
     "text": [
      "1089\n"
     ]
    }
   ],
   "source": [
    "print(len(differenced))"
   ]
  },
  {
   "cell_type": "code",
   "execution_count": 38,
   "metadata": {},
   "outputs": [
    {
     "name": "stdout",
     "output_type": "stream",
     "text": [
      "[1405 1109 1240 ... 1864 1814 1840]\n"
     ]
    }
   ],
   "source": [
    "print(X)"
   ]
  },
  {
   "cell_type": "code",
   "execution_count": 39,
   "metadata": {},
   "outputs": [
    {
     "name": "stdout",
     "output_type": "stream",
     "text": [
      "Day 1: 1827.141951\n",
      "Day 2: 1733.531386\n",
      "Day 3: 1677.760766\n",
      "Day 4: 1676.868738\n",
      "Day 5: 1703.559941\n",
      "Day 6: 1690.509769\n",
      "Day 7: 1786.615937\n"
     ]
    }
   ],
   "source": [
    "from pandas import Series\n",
    "from statsmodels.tsa.arima_model import ARIMA\n",
    "import numpy\n",
    "\n",
    "# create a differenced series\n",
    "def difference(dataset, interval=1):\n",
    "\tdiff = list()\n",
    "\tfor i in range(interval, len(dataset)):\n",
    "\t\tvalue = dataset[i] - dataset[i - interval]\n",
    "\t\tdiff.append(value)\n",
    "\treturn numpy.array(diff)\n",
    "\n",
    "# invert differenced value\n",
    "def inverse_difference(history, yhat, interval=1):\n",
    "\treturn yhat + history[-interval]\n",
    "\n",
    "# load dataset\n",
    "series = Series.from_csv('dataset.csv', header=None)\n",
    "# seasonal difference\n",
    "X = series.values\n",
    "days_in_year = 365\n",
    "differenced = difference(X, days_in_year)\n",
    "# fit model\n",
    "model = ARIMA(differenced, order=(7,0,1))\n",
    "model_fit = model.fit(disp=0)\n",
    "# multi-step out-of-sample forecast\n",
    "start_index = len(differenced)\n",
    "end_index = start_index + 6\n",
    "forecast = model_fit.predict(start=start_index, end=end_index)\n",
    "# invert the differenced forecast to something usable\n",
    "history = [x for x in X]\n",
    "day = 1\n",
    "for yhat in forecast:\n",
    "\tinverted = inverse_difference(history, yhat, days_in_year)\n",
    "\tprint('Day %d: %f' % (day, inverted))\n",
    "\thistory.append(inverted)\n",
    "\tday += 1"
   ]
  },
  {
   "cell_type": "code",
   "execution_count": 41,
   "metadata": {},
   "outputs": [
    {
     "data": {
      "text/plain": [
       "[<matplotlib.lines.Line2D at 0x7f80d1ecffd0>]"
      ]
     },
     "execution_count": 41,
     "metadata": {},
     "output_type": "execute_result"
    },
    {
     "data": {
      "image/png": "[encoded data removed]",
      "text/plain": [
       "<Figure size 432x288 with 1 Axes>"
      ]
     },
     "metadata": {
      "needs_background": "light"
     },
     "output_type": "display_data"
    }
   ],
   "source": [
    "import matplotlib.pyplot as plt\n",
    "plt.plot(history)\n"
   ]
  },
  {
   "cell_type": "code",
   "execution_count": null,
   "metadata": {},
   "outputs": [],
   "source": []
  },
  {
   "cell_type": "code",
   "execution_count": null,
   "metadata": {},
   "outputs": [],
   "source": []
  }
 ],
 "metadata": {
  "kernelspec": {
   "display_name": "Python 3",
   "language": "python",
   "name": "python3"
  },
  "language_info": {
   "codemirror_mode": {
    "name": "ipython",
    "version": 3
   },
   "file_extension": ".py",
   "mimetype": "text/x-python",
   "name": "python",
   "nbconvert_exporter": "python",
   "pygments_lexer": "ipython3",
   "version": "3.6.7"
  }
 },
 "nbformat": 4,
 "nbformat_minor": 2
}
